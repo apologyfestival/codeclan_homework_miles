{
 "cells": [
  {
   "cell_type": "markdown",
   "metadata": {},
   "source": [
    "# 1. Who knows where the time goes?\n",
    "Given a list of the years in which people were born, write a list comprehension to determine their age based on the current year. Ignore dates and months when calculating this."
   ]
  },
  {
   "cell_type": "code",
   "execution_count": 4,
   "metadata": {},
   "outputs": [
    {
     "data": {
      "text/plain": [
       "[30, 29, 30, 30, 28, 29, 44, 36, 80]"
      ]
     },
     "execution_count": 4,
     "metadata": {},
     "output_type": "execute_result"
    }
   ],
   "source": [
    "years_of_birth = [1990, 1991, 1990, 1990, 1992, 1991, 1976, 1984, 1940]\n",
    "current_year = 2020\n",
    "age = [current_year - year_of_birth for year_of_birth in years_of_birth]\n",
    "age"
   ]
  },
  {
   "cell_type": "markdown",
   "metadata": {},
   "source": [
    "# 2. Back to front\n",
    "Write a function is_palindrome(input_string) to determine whether an input string is a palindrome (i.e. reads the same backwards as forwards, e.g. ‘madam’). The function should return True if the string is a palindrome and False otherwise. As an extension, amend your code so that it strips out spaces from the string.\n",
    "\n",
    "**Hint:** To do this efficiently, research methods to reverse a string in Python."
   ]
  },
  {
   "cell_type": "code",
   "execution_count": 9,
   "metadata": {},
   "outputs": [],
   "source": [
    "def is_palindrome(string):\n",
    "    string = string.replace(\" \", \"\")\n",
    "    if(string == string[::-1]):\n",
    "        return True\n",
    "    else:\n",
    "        return False"
   ]
  },
  {
   "cell_type": "code",
   "execution_count": 14,
   "metadata": {},
   "outputs": [
    {
     "data": {
      "text/plain": [
       "True"
      ]
     },
     "execution_count": 14,
     "metadata": {},
     "output_type": "execute_result"
    }
   ],
   "source": [
    "is_palindrome(\"mad a m\")"
   ]
  },
  {
   "cell_type": "markdown",
   "metadata": {},
   "source": [
    "# 3. Multiples of 3 or 5\n",
    "If we list all the natural numbers below 10 that are multiples of 3 or 5, we get 3, 5, 6 and 9. The sum of these multiples is 23.\n",
    "\n",
    "Find the sum of all the multiples of 3 or 5 below 1000.\n",
    "\n",
    "From Project Euler (Problem 1)."
   ]
  },
  {
   "cell_type": "code",
   "execution_count": 28,
   "metadata": {},
   "outputs": [],
   "source": [
    "sum_of_multiples = 0\n",
    "for number in range(1, 1000):\n",
    "    if(number % 3 == 0 or number % 5 == 0):\n",
    "        sum_of_multiples = sum_of_multiples + number"
   ]
  },
  {
   "cell_type": "code",
   "execution_count": 29,
   "metadata": {},
   "outputs": [
    {
     "data": {
      "text/plain": [
       "233168"
      ]
     },
     "execution_count": 29,
     "metadata": {},
     "output_type": "execute_result"
    }
   ],
   "source": [
    "sum_of_multiples"
   ]
  },
  {
   "cell_type": "markdown",
   "metadata": {},
   "source": [
    "# 4. No need to repeat yourself…\n",
    "Write a function remove_duplicates(input_list) that takes in an input list of words and removes any duplicates it finds, returning the list without duplicates.\n",
    "\n",
    "**Hint:** Research the in and not keywords in Python."
   ]
  },
  {
   "cell_type": "code",
   "execution_count": 72,
   "metadata": {},
   "outputs": [],
   "source": [
    "def remove_duplicates(input_list):\n",
    "    output = []\n",
    "    for element in input_list:\n",
    "        if(element not in output):\n",
    "            output.append(element)\n",
    "    return output"
   ]
  },
  {
   "cell_type": "code",
   "execution_count": 73,
   "metadata": {},
   "outputs": [
    {
     "data": {
      "text/plain": [
       "['I',\n",
       " 'am',\n",
       " 'counting',\n",
       " 'my',\n",
       " 'calories',\n",
       " 'yet',\n",
       " 'really',\n",
       " 'want',\n",
       " 'dessert',\n",
       " 'still',\n",
       " 'hungry']"
      ]
     },
     "execution_count": 73,
     "metadata": {},
     "output_type": "execute_result"
    }
   ],
   "source": [
    "remove_duplicates([\"I\", \"am\", \"counting\", \"my\", \"calories\", \"yet\", \"I\", \"really\", \"want\", \"dessert\", \"I\", \"am\", \"still\", \"hungry\"])"
   ]
  },
  {
   "cell_type": "markdown",
   "metadata": {},
   "source": [
    "# 5. List overlap\n",
    "Write a function list_overlap(list_1, list_2) that returns the overlap between two input lists list_1 and list_2 of numbers (i.e. the elements present in both lists). The input lists need not be the same size."
   ]
  },
  {
   "cell_type": "code",
   "execution_count": 80,
   "metadata": {},
   "outputs": [],
   "source": [
    "def list_overlap(list_1, list_2):\n",
    "    output = []\n",
    "    for element in list_1:\n",
    "        if(element in list_2 and element not in output):\n",
    "            output.append(element)\n",
    "    return output"
   ]
  },
  {
   "cell_type": "code",
   "execution_count": 81,
   "metadata": {},
   "outputs": [],
   "source": [
    "list_1 = [1, 4, 5, 6, 6, 5, 10, 11, 12]\n",
    "list_2 = [3, 2, 6, 10]"
   ]
  },
  {
   "cell_type": "code",
   "execution_count": null,
   "metadata": {},
   "outputs": [],
   "source": [
    "list_overlap(list_1, list_2)"
   ]
  },
  {
   "cell_type": "markdown",
   "metadata": {},
   "source": [
    "# 6. Even Fibonacci numbers\n",
    "Each new term in a Fibonacci sequence is generated by adding the previous two terms. So starting with 1 and 2, the first 10 terms will be:\n",
    "\n",
    "1, 2, 3, 5, 8, 13, 21, 34, 55, 89...\n",
    "\n",
    "By considering the terms in this Fibonacci sequence whose values do not exceed four million, find the sum of the even-valued terms.\n",
    "\n",
    "**Hint:** Research while loops.\n",
    "\n",
    "From Project Euler (Problem 2)"
   ]
  },
  {
   "cell_type": "code",
   "execution_count": 151,
   "metadata": {},
   "outputs": [
    {
     "name": "stdout",
     "output_type": "stream",
     "text": [
      "4613732\n"
     ]
    }
   ],
   "source": [
    "current_value = 1\n",
    "previous_value = 1\n",
    "fibonacci_sum = 0\n",
    "\n",
    "while current_value <= 4e6:\n",
    "    # If the current value is even, add to the sum of values\n",
    "    if(current_value % 2 == 0):\n",
    "        fibonacci_sum += current_value\n",
    "    # Increment values\n",
    "    current_value, previous_value = current_value + previous_value, current_value\n",
    "\n",
    "print(fibonacci_sum)"
   ]
  },
  {
   "cell_type": "markdown",
   "metadata": {},
   "source": [
    "# 7. List to dictionary\n",
    "Write a function that accepts a list of strings and returns a dictionary where the keys are the words from the list and the values are the number of times that word appears in the list."
   ]
  },
  {
   "cell_type": "code",
   "execution_count": 216,
   "metadata": {},
   "outputs": [],
   "source": [
    "def convert_to_dictionary(list_input):\n",
    "    dictionary = dict()\n",
    "    for element in list_input:\n",
    "        # If element exists in the dictionary, increment its value\n",
    "        if element in dictionary:\n",
    "            dictionary[element] += 1\n",
    "        # Otherwise, add element to dictionary\n",
    "        else:\n",
    "            dictionary[element] = 1\n",
    "    # Sort elements in the dictionary by their value, descending\n",
    "    dictionary = sorted(dictionary.items(), key = lambda x: x[1], reverse = True)\n",
    "    return dict(dictionary)"
   ]
  },
  {
   "cell_type": "code",
   "execution_count": 217,
   "metadata": {},
   "outputs": [
    {
     "data": {
      "text/plain": [
       "{'the': 10,\n",
       " 'bells': 10,\n",
       " 'of': 4,\n",
       " 'and': 2,\n",
       " 'in': 2,\n",
       " 'how': 1,\n",
       " 'danger': 1,\n",
       " 'sinks': 1,\n",
       " 'swells': 1,\n",
       " 'by': 1,\n",
       " 'sinking': 1,\n",
       " 'or': 1,\n",
       " 'swelling': 1,\n",
       " 'anger': 1,\n",
       " 'clamor': 1,\n",
       " 'clangor': 1}"
      ]
     },
     "execution_count": 217,
     "metadata": {},
     "output_type": "execute_result"
    }
   ],
   "source": [
    "values_to_test = [\n",
    "    \"how\", \"the\", \"danger\", \"sinks\", \"and\", \"swells\",\n",
    "    \"by\", \"the\", \"sinking\", \"or\", \"the\", \"swelling\",\n",
    "    \"in\", \"the\", \"anger\", \"of\", \"the\", \"bells\",\n",
    "    \"of\", \"the\", \"bells\",\n",
    "    \"of\", \"the\", \"bells\", \"bells\", \"bells\", \"bells\",\n",
    "    \"bells\", \"bells\", \"bells\",\n",
    "    \"in\", \"the\", \"clamor\", \"and\", \"the\", \"clangor\", \"of\", \"the\", \"bells\"\n",
    "]\n",
    "convert_to_dictionary(values_to_test)"
   ]
  },
  {
   "cell_type": "markdown",
   "metadata": {},
   "source": [
    "# 8. Correct the code\n",
    "You are repeatedly sent a message, but there are errors in the message each time it is sent. Write code to determine which character occurs most frequently at each position. For example, suppose you had recorded the following messages:\n",
    "\n",
    "eedadn drvtee eandsr raavrd atevrs tsrnev sdttsa rasrtv nssdts ntnada svetve tesnvt vntsnd vrdear dvrsen enarar\n",
    "\n",
    "The most common character in the first column is ‘e’; in the second, ‘a’; in the third, ‘s’; and so on. Combining these characters returns the error-corrected message ‘easter’.\n",
    "\n",
    "Open the file puzzle3input.txt and find the error corrected message.\n",
    "\n",
    "From Advent of Code (2016, day 6)"
   ]
  },
  {
   "cell_type": "code",
   "execution_count": 177,
   "metadata": {},
   "outputs": [],
   "source": [
    "with open(\"puzzle3input.txt\", \"r\") as f:\n",
    "    puzzle = f.read().splitlines()"
   ]
  },
  {
   "cell_type": "code",
   "execution_count": 223,
   "metadata": {},
   "outputs": [
    {
     "data": {
      "text/plain": [
       "['q', 'q', 'q', 'l', 'u', 'i', 'g', 'u']"
      ]
     },
     "execution_count": 223,
     "metadata": {},
     "output_type": "execute_result"
    }
   ],
   "source": [
    "output = []\n",
    "for i in range(0, 8):\n",
    "    dictionary = convert_to_dictionary([element[i] for element in puzzle])\n",
    "    output.append(max(dictionary, key = dictionary.get))\n",
    "output"
   ]
  }
 ],
 "metadata": {
  "kernelspec": {
   "display_name": "Python 3",
   "language": "python",
   "name": "python3"
  },
  "language_info": {
   "codemirror_mode": {
    "name": "ipython",
    "version": 3
   },
   "file_extension": ".py",
   "mimetype": "text/x-python",
   "name": "python",
   "nbconvert_exporter": "python",
   "pygments_lexer": "ipython3",
   "version": "3.7.6"
  }
 },
 "nbformat": 4,
 "nbformat_minor": 4
}
